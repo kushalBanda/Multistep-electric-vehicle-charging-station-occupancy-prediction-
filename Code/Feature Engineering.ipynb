{
 "cells": [
  {
   "cell_type": "code",
   "execution_count": 1,
   "metadata": {},
   "outputs": [],
   "source": [
    "# to handle datasets\n",
    "import pandas as pd\n",
    "import numpy as np\n",
    "\n",
    "# for plotting\n",
    "import matplotlib.pyplot as plt\n",
    "\n",
    "# for the yeo-johnson transformation\n",
    "import scipy.stats as stats\n",
    "\n",
    "# to divide train and test set\n",
    "from sklearn.model_selection import train_test_split\n",
    "\n",
    "# feature scaling\n",
    "from sklearn.preprocessing import MinMaxScaler\n",
    "\n",
    "# to save the trained scaler class\n",
    "import joblib\n",
    "\n",
    "# to visualise al the columns in the dataframe\n",
    "pd.pandas.set_option('display.max_columns', None)"
   ]
  },
  {
   "cell_type": "code",
   "execution_count": 2,
   "metadata": {},
   "outputs": [
    {
     "name": "stdout",
     "output_type": "stream",
     "text": [
      "(17731, 20)\n"
     ]
    },
    {
     "data": {
      "text/html": [
       "<div>\n",
       "<style scoped>\n",
       "    .dataframe tbody tr th:only-of-type {\n",
       "        vertical-align: middle;\n",
       "    }\n",
       "\n",
       "    .dataframe tbody tr th {\n",
       "        vertical-align: top;\n",
       "    }\n",
       "\n",
       "    .dataframe thead th {\n",
       "        text-align: right;\n",
       "    }\n",
       "</style>\n",
       "<table border=\"1\" class=\"dataframe\">\n",
       "  <thead>\n",
       "    <tr style=\"text-align: right;\">\n",
       "      <th></th>\n",
       "      <th>Unnamed: 0</th>\n",
       "      <th>Chargingevent</th>\n",
       "      <th>CPID</th>\n",
       "      <th>Connector</th>\n",
       "      <th>Occupancy Status</th>\n",
       "      <th>StartDate</th>\n",
       "      <th>StartTime</th>\n",
       "      <th>EndDate</th>\n",
       "      <th>EndTime</th>\n",
       "      <th>StartDate_num</th>\n",
       "      <th>StartTime_num</th>\n",
       "      <th>EndDate_num</th>\n",
       "      <th>EndTime_num</th>\n",
       "      <th>duration</th>\n",
       "      <th>TotalkWh</th>\n",
       "      <th>Site</th>\n",
       "      <th>Group</th>\n",
       "      <th>Model</th>\n",
       "      <th>weekday</th>\n",
       "      <th>charger_id</th>\n",
       "    </tr>\n",
       "  </thead>\n",
       "  <tbody>\n",
       "    <tr>\n",
       "      <th>0</th>\n",
       "      <td>1347</td>\n",
       "      <td>7120839</td>\n",
       "      <td>50338</td>\n",
       "      <td>1</td>\n",
       "      <td>1</td>\n",
       "      <td>2018-03-23</td>\n",
       "      <td>12:35:00</td>\n",
       "      <td>2018-03-23</td>\n",
       "      <td>13:03:00</td>\n",
       "      <td>43182</td>\n",
       "      <td>12.583333</td>\n",
       "      <td>43182</td>\n",
       "      <td>13.050000</td>\n",
       "      <td>28.0</td>\n",
       "      <td>2.951</td>\n",
       "      <td>Social Work Building, Jack Martin Way, Dundee</td>\n",
       "      <td>APT Controls; CYC; ChargePlace Scotland; Dunde...</td>\n",
       "      <td>APT Triple Rapid Charger</td>\n",
       "      <td>5</td>\n",
       "      <td>1</td>\n",
       "    </tr>\n",
       "    <tr>\n",
       "      <th>1</th>\n",
       "      <td>8870</td>\n",
       "      <td>7120839</td>\n",
       "      <td>50338</td>\n",
       "      <td>1</td>\n",
       "      <td>0</td>\n",
       "      <td>2018-03-23</td>\n",
       "      <td>13:03:00</td>\n",
       "      <td>2018-03-23</td>\n",
       "      <td>13:13:00</td>\n",
       "      <td>43182</td>\n",
       "      <td>13.050000</td>\n",
       "      <td>43182</td>\n",
       "      <td>13.216667</td>\n",
       "      <td>28.0</td>\n",
       "      <td>2.951</td>\n",
       "      <td>Social Work Building, Jack Martin Way, Dundee</td>\n",
       "      <td>APT Controls; CYC; ChargePlace Scotland; Dunde...</td>\n",
       "      <td>APT Triple Rapid Charger</td>\n",
       "      <td>5</td>\n",
       "      <td>1</td>\n",
       "    </tr>\n",
       "    <tr>\n",
       "      <th>2</th>\n",
       "      <td>1340</td>\n",
       "      <td>7121028</td>\n",
       "      <td>50338</td>\n",
       "      <td>1</td>\n",
       "      <td>1</td>\n",
       "      <td>2018-03-23</td>\n",
       "      <td>13:13:00</td>\n",
       "      <td>2018-03-23</td>\n",
       "      <td>13:20:00</td>\n",
       "      <td>43182</td>\n",
       "      <td>13.216667</td>\n",
       "      <td>43182</td>\n",
       "      <td>13.333333</td>\n",
       "      <td>7.0</td>\n",
       "      <td>0.765</td>\n",
       "      <td>Social Work Building, Jack Martin Way, Dundee</td>\n",
       "      <td>APT Controls; CYC; ChargePlace Scotland; Dunde...</td>\n",
       "      <td>APT Triple Rapid Charger</td>\n",
       "      <td>5</td>\n",
       "      <td>1</td>\n",
       "    </tr>\n",
       "    <tr>\n",
       "      <th>3</th>\n",
       "      <td>8872</td>\n",
       "      <td>7121028</td>\n",
       "      <td>50338</td>\n",
       "      <td>1</td>\n",
       "      <td>0</td>\n",
       "      <td>2018-03-23</td>\n",
       "      <td>13:20:00</td>\n",
       "      <td>2018-05-01</td>\n",
       "      <td>15:51:00</td>\n",
       "      <td>43182</td>\n",
       "      <td>13.333333</td>\n",
       "      <td>43221</td>\n",
       "      <td>15.850000</td>\n",
       "      <td>7.0</td>\n",
       "      <td>0.765</td>\n",
       "      <td>Social Work Building, Jack Martin Way, Dundee</td>\n",
       "      <td>APT Controls; CYC; ChargePlace Scotland; Dunde...</td>\n",
       "      <td>APT Triple Rapid Charger</td>\n",
       "      <td>5</td>\n",
       "      <td>1</td>\n",
       "    </tr>\n",
       "    <tr>\n",
       "      <th>4</th>\n",
       "      <td>5143</td>\n",
       "      <td>7221636</td>\n",
       "      <td>50338</td>\n",
       "      <td>1</td>\n",
       "      <td>1</td>\n",
       "      <td>2018-05-01</td>\n",
       "      <td>15:51:00</td>\n",
       "      <td>2018-05-01</td>\n",
       "      <td>16:18:00</td>\n",
       "      <td>43221</td>\n",
       "      <td>15.850000</td>\n",
       "      <td>43221</td>\n",
       "      <td>16.300000</td>\n",
       "      <td>27.0</td>\n",
       "      <td>8.053</td>\n",
       "      <td>Social Work Building, Jack Martin Way, Dundee</td>\n",
       "      <td>APT Controls; CYC; ChargePlace Scotland; Dunde...</td>\n",
       "      <td>APT Triple Rapid Charger</td>\n",
       "      <td>2</td>\n",
       "      <td>1</td>\n",
       "    </tr>\n",
       "  </tbody>\n",
       "</table>\n",
       "</div>"
      ],
      "text/plain": [
       "   Unnamed: 0  Chargingevent   CPID  Connector  Occupancy Status   StartDate  \\\n",
       "0        1347        7120839  50338          1                 1  2018-03-23   \n",
       "1        8870        7120839  50338          1                 0  2018-03-23   \n",
       "2        1340        7121028  50338          1                 1  2018-03-23   \n",
       "3        8872        7121028  50338          1                 0  2018-03-23   \n",
       "4        5143        7221636  50338          1                 1  2018-05-01   \n",
       "\n",
       "  StartTime     EndDate   EndTime  StartDate_num  StartTime_num  EndDate_num  \\\n",
       "0  12:35:00  2018-03-23  13:03:00          43182      12.583333        43182   \n",
       "1  13:03:00  2018-03-23  13:13:00          43182      13.050000        43182   \n",
       "2  13:13:00  2018-03-23  13:20:00          43182      13.216667        43182   \n",
       "3  13:20:00  2018-05-01  15:51:00          43182      13.333333        43221   \n",
       "4  15:51:00  2018-05-01  16:18:00          43221      15.850000        43221   \n",
       "\n",
       "   EndTime_num  duration  TotalkWh  \\\n",
       "0    13.050000      28.0     2.951   \n",
       "1    13.216667      28.0     2.951   \n",
       "2    13.333333       7.0     0.765   \n",
       "3    15.850000       7.0     0.765   \n",
       "4    16.300000      27.0     8.053   \n",
       "\n",
       "                                            Site  \\\n",
       "0  Social Work Building, Jack Martin Way, Dundee   \n",
       "1  Social Work Building, Jack Martin Way, Dundee   \n",
       "2  Social Work Building, Jack Martin Way, Dundee   \n",
       "3  Social Work Building, Jack Martin Way, Dundee   \n",
       "4  Social Work Building, Jack Martin Way, Dundee   \n",
       "\n",
       "                                               Group  \\\n",
       "0  APT Controls; CYC; ChargePlace Scotland; Dunde...   \n",
       "1  APT Controls; CYC; ChargePlace Scotland; Dunde...   \n",
       "2  APT Controls; CYC; ChargePlace Scotland; Dunde...   \n",
       "3  APT Controls; CYC; ChargePlace Scotland; Dunde...   \n",
       "4  APT Controls; CYC; ChargePlace Scotland; Dunde...   \n",
       "\n",
       "                      Model  weekday  charger_id  \n",
       "0  APT Triple Rapid Charger        5           1  \n",
       "1  APT Triple Rapid Charger        5           1  \n",
       "2  APT Triple Rapid Charger        5           1  \n",
       "3  APT Triple Rapid Charger        5           1  \n",
       "4  APT Triple Rapid Charger        2           1  "
      ]
     },
     "execution_count": 2,
     "metadata": {},
     "output_type": "execute_result"
    }
   ],
   "source": [
    "# load dataset\n",
    "data = pd.read_csv('../Data/Data.csv')\n",
    "\n",
    "# rows and columns of the data\n",
    "print(data.shape)\n",
    "\n",
    "# visualise the dataset\n",
    "data.head()"
   ]
  },
  {
   "attachments": {},
   "cell_type": "markdown",
   "metadata": {},
   "source": [
    "### Seperate dataset into train and test"
   ]
  },
  {
   "cell_type": "code",
   "execution_count": 3,
   "metadata": {},
   "outputs": [
    {
     "data": {
      "text/plain": [
       "Index(['Unnamed: 0', 'Chargingevent', 'CPID', 'Connector', 'Occupancy Status',\n",
       "       'StartDate', 'StartTime', 'EndDate', 'EndTime', 'StartDate_num',\n",
       "       'StartTime_num', 'EndDate_num', 'EndTime_num', 'duration', 'TotalkWh',\n",
       "       'Site', 'Group', 'Model', 'weekday', 'charger_id'],\n",
       "      dtype='object')"
      ]
     },
     "execution_count": 3,
     "metadata": {},
     "output_type": "execute_result"
    }
   ],
   "source": [
    "data.columns"
   ]
  },
  {
   "cell_type": "code",
   "execution_count": 4,
   "metadata": {},
   "outputs": [
    {
     "data": {
      "text/plain": [
       "((14184, 18), (3547, 18))"
      ]
     },
     "execution_count": 4,
     "metadata": {},
     "output_type": "execute_result"
    }
   ],
   "source": [
    "# Let's seperate into train and test set\n",
    "X_train, X_test, y_train, y_test = train_test_split(\n",
    "    data.drop(columns = ['Unnamed: 0', 'Occupancy Status'], axis = 1), # Predictive Variables\n",
    "    data['Occupancy Status'], # Target\n",
    "    test_size = 0.2,\n",
    "    random_state = 0\n",
    ")\n",
    "\n",
    "X_train.shape, X_test.shape"
   ]
  },
  {
   "attachments": {},
   "cell_type": "markdown",
   "metadata": {},
   "source": [
    "### Feature Engineering"
   ]
  },
  {
   "attachments": {},
   "cell_type": "markdown",
   "metadata": {},
   "source": [
    "### Missing Values"
   ]
  },
  {
   "cell_type": "code",
   "execution_count": 5,
   "metadata": {},
   "outputs": [
    {
     "data": {
      "text/plain": [
       "Unnamed: 0          0\n",
       "Chargingevent       0\n",
       "CPID                0\n",
       "Connector           0\n",
       "Occupancy Status    0\n",
       "StartDate           0\n",
       "StartTime           0\n",
       "EndDate             0\n",
       "EndTime             0\n",
       "StartDate_num       0\n",
       "StartTime_num       0\n",
       "EndDate_num         0\n",
       "EndTime_num         0\n",
       "duration            0\n",
       "TotalkWh            0\n",
       "Site                0\n",
       "Group               0\n",
       "Model               0\n",
       "weekday             0\n",
       "charger_id          0\n",
       "dtype: int64"
      ]
     },
     "execution_count": 5,
     "metadata": {},
     "output_type": "execute_result"
    }
   ],
   "source": [
    "data.isna().sum()"
   ]
  },
  {
   "cell_type": "code",
   "execution_count": 6,
   "metadata": {},
   "outputs": [
    {
     "data": {
      "text/plain": [
       "array(['APT Triple Rapid Charger', 'APT Dual Rapid Charger',\n",
       "       'APT 50kW Raption'], dtype=object)"
      ]
     },
     "execution_count": 6,
     "metadata": {},
     "output_type": "execute_result"
    }
   ],
   "source": [
    "data['Model'].unique()"
   ]
  },
  {
   "attachments": {},
   "cell_type": "markdown",
   "metadata": {},
   "source": [
    "### Detecting Outliers "
   ]
  },
  {
   "cell_type": "code",
   "execution_count": 7,
   "metadata": {},
   "outputs": [],
   "source": [
    "import plotly.express as px\n",
    "import seaborn as sns"
   ]
  },
  {
   "cell_type": "code",
   "execution_count": 8,
   "metadata": {},
   "outputs": [],
   "source": [
    "Outliers_List = ['StartDate_num', 'StartTime_num', 'EndDate_num', 'EndTime_num', 'duration','TotalkWh']"
   ]
  },
  {
   "cell_type": "code",
   "execution_count": 9,
   "metadata": {},
   "outputs": [],
   "source": [
    "def find_Outliers(Outliers_List):\n",
    "\n",
    "    for x in Outliers_List:\n",
    "        q1 = data[x].quantile(0.25)\n",
    "        q3 = data[x].quantile(0.75)\n",
    "\n",
    "        IQR = q3 - q1\n",
    "        outliers = data[x][((data[x]<(q1-1.5*IQR)) | (data[x]>(q3+1.5*IQR)))]\n",
    "\n",
    "        print('Number of Outliers in ' + x + \": \" + str(len(outliers)))"
   ]
  },
  {
   "cell_type": "code",
   "execution_count": 10,
   "metadata": {},
   "outputs": [
    {
     "name": "stdout",
     "output_type": "stream",
     "text": [
      "Number of Outliers in StartDate_num: 0\n",
      "Number of Outliers in StartTime_num: 0\n",
      "Number of Outliers in EndDate_num: 0\n",
      "Number of Outliers in EndTime_num: 0\n",
      "Number of Outliers in duration: 265\n",
      "Number of Outliers in TotalkWh: 176\n"
     ]
    }
   ],
   "source": [
    "find_Outliers(Outliers_List)"
   ]
  },
  {
   "attachments": {},
   "cell_type": "markdown",
   "metadata": {},
   "source": [
    "### Plotting Outliers"
   ]
  },
  {
   "cell_type": "code",
   "execution_count": 11,
   "metadata": {},
   "outputs": [],
   "source": [
    "def Outliers(data, x):\n",
    "    ax = sns.boxplot(\n",
    "    data = data, x = x,\n",
    "    notch=True, showcaps=False,\n",
    "    flierprops={\"marker\": \".\"},\n",
    "    boxprops={\"facecolor\": (.4, .6, .8, .5)},\n",
    "    medianprops={\"color\": \"coral\"})\n",
    "    \n",
    "    ax.set(xlabel = None)\n",
    "    ax.set(title = x)\n",
    "    sns.set_style(\"whitegrid\")\n"
   ]
  },
  {
   "cell_type": "code",
   "execution_count": 12,
   "metadata": {},
   "outputs": [
    {
     "data": {
      "image/png": "[encoded data removed]",
      "text/plain": [
       "<Figure size 1440x1440 with 6 Axes>"
      ]
     },
     "metadata": {
      "needs_background": "light"
     },
     "output_type": "display_data"
    }
   ],
   "source": [
    "plt.figure(figsize=(20, 20)) \n",
    "for i in range(0, 6):\n",
    "    plt.subplot(4, 2, i+1)\n",
    "    Outliers(data, Outliers_List[i])"
   ]
  },
  {
   "attachments": {},
   "cell_type": "markdown",
   "metadata": {},
   "source": [
    "### Capping the outliers\n",
    "* We essentially set a limit for the min and max outlier values. Anything above or below the cap gets set to the capped min or max respectively."
   ]
  },
  {
   "cell_type": "code",
   "execution_count": 13,
   "metadata": {},
   "outputs": [],
   "source": [
    "def cap_outliers(Outliers_List):\n",
    "    for x in Outliers_List:\n",
    "        upper_limit = data[x].mean() + 3*data[x].std()\n",
    "        lower_limit = data[x].mean() - 3*data[x].std()\n",
    "\n",
    "        data[x] = np.where(data[x] > upper_limit, upper_limit, np.where(data[x] < lower_limit, lower_limit, data[x]))"
   ]
  },
  {
   "cell_type": "code",
   "execution_count": 14,
   "metadata": {},
   "outputs": [],
   "source": [
    "cap_outliers(Outliers_List)"
   ]
  },
  {
   "attachments": {},
   "cell_type": "markdown",
   "metadata": {},
   "source": [
    "### Boxplot after Capping the outliers"
   ]
  },
  {
   "cell_type": "code",
   "execution_count": 15,
   "metadata": {},
   "outputs": [
    {
     "data": {
      "image/png": "[encoded data removed]",
      "text/plain": [
       "<Figure size 1440x1440 with 6 Axes>"
      ]
     },
     "metadata": {},
     "output_type": "display_data"
    }
   ],
   "source": [
    "plt.figure(figsize=(20, 20)) \n",
    "for i in range(0, 6):\n",
    "    plt.subplot(4, 2, i+1)\n",
    "    Outliers(data, Outliers_List[i])"
   ]
  },
  {
   "attachments": {},
   "cell_type": "markdown",
   "metadata": {},
   "source": [
    "### Another Method of replacing outliers: Using imputation as if they were missing values\n",
    "* This technique handles outliers is similar to capping the values. Instead of using a capping calculation, use whatever imputation technique is being used on the missing values. "
   ]
  },
  {
   "cell_type": "code",
   "execution_count": 16,
   "metadata": {},
   "outputs": [],
   "source": [
    "def impute_outliers_IQR(Outliers_List):\n",
    "    for x in Outliers_List:\n",
    "        q1 = data[x].quantile(0.25)\n",
    "        q3 = data[x].quantile(0.75)\n",
    "\n",
    "        IQR = q3 - q1\n",
    "        upper = data[x][~(data[x]>(q3+1.5*IQR))].max()\n",
    "        lower = data[x][~(data[x]<(q1-1.5*IQR))].min()  \n",
    "\n",
    "        data[x] = np.where(data[x] > upper, data[x].mean(), np.where(data[x] < lower, data[x].mean(), data[x]))"
   ]
  },
  {
   "cell_type": "code",
   "execution_count": 17,
   "metadata": {},
   "outputs": [],
   "source": [
    "impute_outliers_IQR(Outliers_List)"
   ]
  },
  {
   "attachments": {},
   "cell_type": "markdown",
   "metadata": {},
   "source": [
    "### Boxplot after Capping the outliers"
   ]
  },
  {
   "cell_type": "code",
   "execution_count": 18,
   "metadata": {},
   "outputs": [
    {
     "data": {
      "image/png": "[encoded data removed]",
      "text/plain": [
       "<Figure size 1440x1440 with 6 Axes>"
      ]
     },
     "metadata": {},
     "output_type": "display_data"
    }
   ],
   "source": [
    "plt.figure(figsize=(20, 20)) \n",
    "for i in range(0, 6):\n",
    "    plt.subplot(4, 2, i+1)\n",
    "    Outliers(data, Outliers_List[i])"
   ]
  },
  {
   "attachments": {},
   "cell_type": "markdown",
   "metadata": {},
   "source": [
    "### Encoding Categorical Features"
   ]
  },
  {
   "attachments": {},
   "cell_type": "markdown",
   "metadata": {},
   "source": [
    "### Feature Selection "
   ]
  },
  {
   "cell_type": "code",
   "execution_count": 19,
   "metadata": {},
   "outputs": [
    {
     "data": {
      "text/html": [
       "<div>\n",
       "<style scoped>\n",
       "    .dataframe tbody tr th:only-of-type {\n",
       "        vertical-align: middle;\n",
       "    }\n",
       "\n",
       "    .dataframe tbody tr th {\n",
       "        vertical-align: top;\n",
       "    }\n",
       "\n",
       "    .dataframe thead th {\n",
       "        text-align: right;\n",
       "    }\n",
       "</style>\n",
       "<table border=\"1\" class=\"dataframe\">\n",
       "  <thead>\n",
       "    <tr style=\"text-align: right;\">\n",
       "      <th></th>\n",
       "      <th>Unnamed: 0</th>\n",
       "      <th>Chargingevent</th>\n",
       "      <th>CPID</th>\n",
       "      <th>Connector</th>\n",
       "      <th>Occupancy Status</th>\n",
       "      <th>StartDate</th>\n",
       "      <th>StartTime</th>\n",
       "      <th>EndDate</th>\n",
       "      <th>EndTime</th>\n",
       "      <th>StartDate_num</th>\n",
       "      <th>StartTime_num</th>\n",
       "      <th>EndDate_num</th>\n",
       "      <th>EndTime_num</th>\n",
       "      <th>duration</th>\n",
       "      <th>TotalkWh</th>\n",
       "      <th>Site</th>\n",
       "      <th>Group</th>\n",
       "      <th>Model</th>\n",
       "      <th>weekday</th>\n",
       "      <th>charger_id</th>\n",
       "    </tr>\n",
       "  </thead>\n",
       "  <tbody>\n",
       "    <tr>\n",
       "      <th>0</th>\n",
       "      <td>1347</td>\n",
       "      <td>7120839</td>\n",
       "      <td>50338</td>\n",
       "      <td>1</td>\n",
       "      <td>1</td>\n",
       "      <td>2018-03-23</td>\n",
       "      <td>12:35:00</td>\n",
       "      <td>2018-03-23</td>\n",
       "      <td>13:03:00</td>\n",
       "      <td>43182.0</td>\n",
       "      <td>12.583333</td>\n",
       "      <td>43182.0</td>\n",
       "      <td>13.050000</td>\n",
       "      <td>28.0</td>\n",
       "      <td>2.951</td>\n",
       "      <td>Social Work Building, Jack Martin Way, Dundee</td>\n",
       "      <td>APT Controls; CYC; ChargePlace Scotland; Dunde...</td>\n",
       "      <td>APT Triple Rapid Charger</td>\n",
       "      <td>5</td>\n",
       "      <td>1</td>\n",
       "    </tr>\n",
       "    <tr>\n",
       "      <th>1</th>\n",
       "      <td>8870</td>\n",
       "      <td>7120839</td>\n",
       "      <td>50338</td>\n",
       "      <td>1</td>\n",
       "      <td>0</td>\n",
       "      <td>2018-03-23</td>\n",
       "      <td>13:03:00</td>\n",
       "      <td>2018-03-23</td>\n",
       "      <td>13:13:00</td>\n",
       "      <td>43182.0</td>\n",
       "      <td>13.050000</td>\n",
       "      <td>43182.0</td>\n",
       "      <td>13.216667</td>\n",
       "      <td>28.0</td>\n",
       "      <td>2.951</td>\n",
       "      <td>Social Work Building, Jack Martin Way, Dundee</td>\n",
       "      <td>APT Controls; CYC; ChargePlace Scotland; Dunde...</td>\n",
       "      <td>APT Triple Rapid Charger</td>\n",
       "      <td>5</td>\n",
       "      <td>1</td>\n",
       "    </tr>\n",
       "    <tr>\n",
       "      <th>2</th>\n",
       "      <td>1340</td>\n",
       "      <td>7121028</td>\n",
       "      <td>50338</td>\n",
       "      <td>1</td>\n",
       "      <td>1</td>\n",
       "      <td>2018-03-23</td>\n",
       "      <td>13:13:00</td>\n",
       "      <td>2018-03-23</td>\n",
       "      <td>13:20:00</td>\n",
       "      <td>43182.0</td>\n",
       "      <td>13.216667</td>\n",
       "      <td>43182.0</td>\n",
       "      <td>13.333333</td>\n",
       "      <td>7.0</td>\n",
       "      <td>0.765</td>\n",
       "      <td>Social Work Building, Jack Martin Way, Dundee</td>\n",
       "      <td>APT Controls; CYC; ChargePlace Scotland; Dunde...</td>\n",
       "      <td>APT Triple Rapid Charger</td>\n",
       "      <td>5</td>\n",
       "      <td>1</td>\n",
       "    </tr>\n",
       "    <tr>\n",
       "      <th>3</th>\n",
       "      <td>8872</td>\n",
       "      <td>7121028</td>\n",
       "      <td>50338</td>\n",
       "      <td>1</td>\n",
       "      <td>0</td>\n",
       "      <td>2018-03-23</td>\n",
       "      <td>13:20:00</td>\n",
       "      <td>2018-05-01</td>\n",
       "      <td>15:51:00</td>\n",
       "      <td>43182.0</td>\n",
       "      <td>13.333333</td>\n",
       "      <td>43221.0</td>\n",
       "      <td>15.850000</td>\n",
       "      <td>7.0</td>\n",
       "      <td>0.765</td>\n",
       "      <td>Social Work Building, Jack Martin Way, Dundee</td>\n",
       "      <td>APT Controls; CYC; ChargePlace Scotland; Dunde...</td>\n",
       "      <td>APT Triple Rapid Charger</td>\n",
       "      <td>5</td>\n",
       "      <td>1</td>\n",
       "    </tr>\n",
       "    <tr>\n",
       "      <th>4</th>\n",
       "      <td>5143</td>\n",
       "      <td>7221636</td>\n",
       "      <td>50338</td>\n",
       "      <td>1</td>\n",
       "      <td>1</td>\n",
       "      <td>2018-05-01</td>\n",
       "      <td>15:51:00</td>\n",
       "      <td>2018-05-01</td>\n",
       "      <td>16:18:00</td>\n",
       "      <td>43221.0</td>\n",
       "      <td>15.850000</td>\n",
       "      <td>43221.0</td>\n",
       "      <td>16.300000</td>\n",
       "      <td>27.0</td>\n",
       "      <td>8.053</td>\n",
       "      <td>Social Work Building, Jack Martin Way, Dundee</td>\n",
       "      <td>APT Controls; CYC; ChargePlace Scotland; Dunde...</td>\n",
       "      <td>APT Triple Rapid Charger</td>\n",
       "      <td>2</td>\n",
       "      <td>1</td>\n",
       "    </tr>\n",
       "  </tbody>\n",
       "</table>\n",
       "</div>"
      ],
      "text/plain": [
       "   Unnamed: 0  Chargingevent   CPID  Connector  Occupancy Status   StartDate  \\\n",
       "0        1347        7120839  50338          1                 1  2018-03-23   \n",
       "1        8870        7120839  50338          1                 0  2018-03-23   \n",
       "2        1340        7121028  50338          1                 1  2018-03-23   \n",
       "3        8872        7121028  50338          1                 0  2018-03-23   \n",
       "4        5143        7221636  50338          1                 1  2018-05-01   \n",
       "\n",
       "  StartTime     EndDate   EndTime  StartDate_num  StartTime_num  EndDate_num  \\\n",
       "0  12:35:00  2018-03-23  13:03:00        43182.0      12.583333      43182.0   \n",
       "1  13:03:00  2018-03-23  13:13:00        43182.0      13.050000      43182.0   \n",
       "2  13:13:00  2018-03-23  13:20:00        43182.0      13.216667      43182.0   \n",
       "3  13:20:00  2018-05-01  15:51:00        43182.0      13.333333      43221.0   \n",
       "4  15:51:00  2018-05-01  16:18:00        43221.0      15.850000      43221.0   \n",
       "\n",
       "   EndTime_num  duration  TotalkWh  \\\n",
       "0    13.050000      28.0     2.951   \n",
       "1    13.216667      28.0     2.951   \n",
       "2    13.333333       7.0     0.765   \n",
       "3    15.850000       7.0     0.765   \n",
       "4    16.300000      27.0     8.053   \n",
       "\n",
       "                                            Site  \\\n",
       "0  Social Work Building, Jack Martin Way, Dundee   \n",
       "1  Social Work Building, Jack Martin Way, Dundee   \n",
       "2  Social Work Building, Jack Martin Way, Dundee   \n",
       "3  Social Work Building, Jack Martin Way, Dundee   \n",
       "4  Social Work Building, Jack Martin Way, Dundee   \n",
       "\n",
       "                                               Group  \\\n",
       "0  APT Controls; CYC; ChargePlace Scotland; Dunde...   \n",
       "1  APT Controls; CYC; ChargePlace Scotland; Dunde...   \n",
       "2  APT Controls; CYC; ChargePlace Scotland; Dunde...   \n",
       "3  APT Controls; CYC; ChargePlace Scotland; Dunde...   \n",
       "4  APT Controls; CYC; ChargePlace Scotland; Dunde...   \n",
       "\n",
       "                      Model  weekday  charger_id  \n",
       "0  APT Triple Rapid Charger        5           1  \n",
       "1  APT Triple Rapid Charger        5           1  \n",
       "2  APT Triple Rapid Charger        5           1  \n",
       "3  APT Triple Rapid Charger        5           1  \n",
       "4  APT Triple Rapid Charger        2           1  "
      ]
     },
     "execution_count": 19,
     "metadata": {},
     "output_type": "execute_result"
    }
   ],
   "source": [
    "data.head()"
   ]
  },
  {
   "cell_type": "code",
   "execution_count": 20,
   "metadata": {},
   "outputs": [
    {
     "data": {
      "text/plain": [
       "array(['Social Work Building, Jack Martin Way, Dundee',\n",
       "       'Public Works Dept, Clepington Rd. Dundee',\n",
       "       'Greenmarket Multi Car Park, Dundee', 'Dundee Ice Arena, Dundee',\n",
       "       'Queen Street Car Park, Broughty Ferry, Dundee',\n",
       "       'Lochee Charging Hub, Dundee',\n",
       "       '***TEST SITE*** Charge Your Car HQ'], dtype=object)"
      ]
     },
     "execution_count": 20,
     "metadata": {},
     "output_type": "execute_result"
    }
   ],
   "source": [
    "data['Site'].unique()"
   ]
  },
  {
   "cell_type": "code",
   "execution_count": 21,
   "metadata": {},
   "outputs": [
    {
     "data": {
      "text/plain": [
       "array(['APT Controls; CYC; ChargePlace Scotland; Dundee City Council'],\n",
       "      dtype=object)"
      ]
     },
     "execution_count": 21,
     "metadata": {},
     "output_type": "execute_result"
    }
   ],
   "source": [
    "data['Group'].unique()"
   ]
  },
  {
   "cell_type": "code",
   "execution_count": 22,
   "metadata": {},
   "outputs": [
    {
     "data": {
      "text/plain": [
       "array(['APT Triple Rapid Charger', 'APT Dual Rapid Charger',\n",
       "       'APT 50kW Raption'], dtype=object)"
      ]
     },
     "execution_count": 22,
     "metadata": {},
     "output_type": "execute_result"
    }
   ],
   "source": [
    "data['Model'].unique()"
   ]
  },
  {
   "attachments": {},
   "cell_type": "markdown",
   "metadata": {},
   "source": [
    "### Label Encoder"
   ]
  },
  {
   "cell_type": "code",
   "execution_count": 23,
   "metadata": {},
   "outputs": [],
   "source": [
    "Label_lst = [\"Site\", \"Group\", \"Model\"]"
   ]
  },
  {
   "cell_type": "code",
   "execution_count": 24,
   "metadata": {},
   "outputs": [],
   "source": [
    "from sklearn.preprocessing import LabelEncoder\n",
    "\n",
    "def Label_Encoder():\n",
    "    for x in Label_lst:\n",
    "        # Create a LabelEncoder object\n",
    "        le = LabelEncoder()\n",
    "\n",
    "        # Fit and transform the data\n",
    "        data[x] = le.fit_transform(data[x])\n",
    "\n",
    "\n",
    "        # Print the mapping between categorical and numerical values\n",
    "        print(f'{x}: {dict(zip(le.classes_, le.transform(le.classes_)))}')\n"
   ]
  },
  {
   "cell_type": "code",
   "execution_count": 25,
   "metadata": {},
   "outputs": [
    {
     "name": "stdout",
     "output_type": "stream",
     "text": [
      "Site: {'***TEST SITE*** Charge Your Car HQ': 0, 'Dundee Ice Arena, Dundee': 1, 'Greenmarket Multi Car Park, Dundee': 2, 'Lochee Charging Hub, Dundee': 3, 'Public Works Dept, Clepington Rd. Dundee': 4, 'Queen Street Car Park, Broughty Ferry, Dundee': 5, 'Social Work Building, Jack Martin Way, Dundee': 6}\n",
      "Group: {'APT Controls; CYC; ChargePlace Scotland; Dundee City Council': 0}\n",
      "Model: {'APT 50kW Raption': 0, 'APT Dual Rapid Charger': 1, 'APT Triple Rapid Charger': 2}\n"
     ]
    }
   ],
   "source": [
    "Label_Encoder()"
   ]
  },
  {
   "attachments": {},
   "cell_type": "markdown",
   "metadata": {},
   "source": [
    "#### **Note:** Since Group column has only one value which is `{'APT Controls; CYC; ChargePlace Scotland; Dundee City Council': 0}`, it makes sense to drop the column, since it  does not provide any useful information for analysis, as it contains no variation or diversity in the data. "
   ]
  },
  {
   "cell_type": "code",
   "execution_count": 26,
   "metadata": {},
   "outputs": [],
   "source": [
    "data.drop(columns = ['Group'], axis = 1, inplace = True)"
   ]
  },
  {
   "cell_type": "code",
   "execution_count": 27,
   "metadata": {},
   "outputs": [
    {
     "data": {
      "text/html": [
       "<div>\n",
       "<style scoped>\n",
       "    .dataframe tbody tr th:only-of-type {\n",
       "        vertical-align: middle;\n",
       "    }\n",
       "\n",
       "    .dataframe tbody tr th {\n",
       "        vertical-align: top;\n",
       "    }\n",
       "\n",
       "    .dataframe thead th {\n",
       "        text-align: right;\n",
       "    }\n",
       "</style>\n",
       "<table border=\"1\" class=\"dataframe\">\n",
       "  <thead>\n",
       "    <tr style=\"text-align: right;\">\n",
       "      <th></th>\n",
       "      <th>Unnamed: 0</th>\n",
       "      <th>Chargingevent</th>\n",
       "      <th>CPID</th>\n",
       "      <th>Connector</th>\n",
       "      <th>Occupancy Status</th>\n",
       "      <th>StartDate</th>\n",
       "      <th>StartTime</th>\n",
       "      <th>EndDate</th>\n",
       "      <th>EndTime</th>\n",
       "      <th>StartDate_num</th>\n",
       "      <th>StartTime_num</th>\n",
       "      <th>EndDate_num</th>\n",
       "      <th>EndTime_num</th>\n",
       "      <th>duration</th>\n",
       "      <th>TotalkWh</th>\n",
       "      <th>Site</th>\n",
       "      <th>Model</th>\n",
       "      <th>weekday</th>\n",
       "      <th>charger_id</th>\n",
       "    </tr>\n",
       "  </thead>\n",
       "  <tbody>\n",
       "    <tr>\n",
       "      <th>0</th>\n",
       "      <td>1347</td>\n",
       "      <td>7120839</td>\n",
       "      <td>50338</td>\n",
       "      <td>1</td>\n",
       "      <td>1</td>\n",
       "      <td>2018-03-23</td>\n",
       "      <td>12:35:00</td>\n",
       "      <td>2018-03-23</td>\n",
       "      <td>13:03:00</td>\n",
       "      <td>43182.0</td>\n",
       "      <td>12.583333</td>\n",
       "      <td>43182.0</td>\n",
       "      <td>13.050000</td>\n",
       "      <td>28.0</td>\n",
       "      <td>2.951</td>\n",
       "      <td>6</td>\n",
       "      <td>2</td>\n",
       "      <td>5</td>\n",
       "      <td>1</td>\n",
       "    </tr>\n",
       "    <tr>\n",
       "      <th>1</th>\n",
       "      <td>8870</td>\n",
       "      <td>7120839</td>\n",
       "      <td>50338</td>\n",
       "      <td>1</td>\n",
       "      <td>0</td>\n",
       "      <td>2018-03-23</td>\n",
       "      <td>13:03:00</td>\n",
       "      <td>2018-03-23</td>\n",
       "      <td>13:13:00</td>\n",
       "      <td>43182.0</td>\n",
       "      <td>13.050000</td>\n",
       "      <td>43182.0</td>\n",
       "      <td>13.216667</td>\n",
       "      <td>28.0</td>\n",
       "      <td>2.951</td>\n",
       "      <td>6</td>\n",
       "      <td>2</td>\n",
       "      <td>5</td>\n",
       "      <td>1</td>\n",
       "    </tr>\n",
       "    <tr>\n",
       "      <th>2</th>\n",
       "      <td>1340</td>\n",
       "      <td>7121028</td>\n",
       "      <td>50338</td>\n",
       "      <td>1</td>\n",
       "      <td>1</td>\n",
       "      <td>2018-03-23</td>\n",
       "      <td>13:13:00</td>\n",
       "      <td>2018-03-23</td>\n",
       "      <td>13:20:00</td>\n",
       "      <td>43182.0</td>\n",
       "      <td>13.216667</td>\n",
       "      <td>43182.0</td>\n",
       "      <td>13.333333</td>\n",
       "      <td>7.0</td>\n",
       "      <td>0.765</td>\n",
       "      <td>6</td>\n",
       "      <td>2</td>\n",
       "      <td>5</td>\n",
       "      <td>1</td>\n",
       "    </tr>\n",
       "    <tr>\n",
       "      <th>3</th>\n",
       "      <td>8872</td>\n",
       "      <td>7121028</td>\n",
       "      <td>50338</td>\n",
       "      <td>1</td>\n",
       "      <td>0</td>\n",
       "      <td>2018-03-23</td>\n",
       "      <td>13:20:00</td>\n",
       "      <td>2018-05-01</td>\n",
       "      <td>15:51:00</td>\n",
       "      <td>43182.0</td>\n",
       "      <td>13.333333</td>\n",
       "      <td>43221.0</td>\n",
       "      <td>15.850000</td>\n",
       "      <td>7.0</td>\n",
       "      <td>0.765</td>\n",
       "      <td>6</td>\n",
       "      <td>2</td>\n",
       "      <td>5</td>\n",
       "      <td>1</td>\n",
       "    </tr>\n",
       "    <tr>\n",
       "      <th>4</th>\n",
       "      <td>5143</td>\n",
       "      <td>7221636</td>\n",
       "      <td>50338</td>\n",
       "      <td>1</td>\n",
       "      <td>1</td>\n",
       "      <td>2018-05-01</td>\n",
       "      <td>15:51:00</td>\n",
       "      <td>2018-05-01</td>\n",
       "      <td>16:18:00</td>\n",
       "      <td>43221.0</td>\n",
       "      <td>15.850000</td>\n",
       "      <td>43221.0</td>\n",
       "      <td>16.300000</td>\n",
       "      <td>27.0</td>\n",
       "      <td>8.053</td>\n",
       "      <td>6</td>\n",
       "      <td>2</td>\n",
       "      <td>2</td>\n",
       "      <td>1</td>\n",
       "    </tr>\n",
       "  </tbody>\n",
       "</table>\n",
       "</div>"
      ],
      "text/plain": [
       "   Unnamed: 0  Chargingevent   CPID  Connector  Occupancy Status   StartDate  \\\n",
       "0        1347        7120839  50338          1                 1  2018-03-23   \n",
       "1        8870        7120839  50338          1                 0  2018-03-23   \n",
       "2        1340        7121028  50338          1                 1  2018-03-23   \n",
       "3        8872        7121028  50338          1                 0  2018-03-23   \n",
       "4        5143        7221636  50338          1                 1  2018-05-01   \n",
       "\n",
       "  StartTime     EndDate   EndTime  StartDate_num  StartTime_num  EndDate_num  \\\n",
       "0  12:35:00  2018-03-23  13:03:00        43182.0      12.583333      43182.0   \n",
       "1  13:03:00  2018-03-23  13:13:00        43182.0      13.050000      43182.0   \n",
       "2  13:13:00  2018-03-23  13:20:00        43182.0      13.216667      43182.0   \n",
       "3  13:20:00  2018-05-01  15:51:00        43182.0      13.333333      43221.0   \n",
       "4  15:51:00  2018-05-01  16:18:00        43221.0      15.850000      43221.0   \n",
       "\n",
       "   EndTime_num  duration  TotalkWh  Site  Model  weekday  charger_id  \n",
       "0    13.050000      28.0     2.951     6      2        5           1  \n",
       "1    13.216667      28.0     2.951     6      2        5           1  \n",
       "2    13.333333       7.0     0.765     6      2        5           1  \n",
       "3    15.850000       7.0     0.765     6      2        5           1  \n",
       "4    16.300000      27.0     8.053     6      2        2           1  "
      ]
     },
     "execution_count": 27,
     "metadata": {},
     "output_type": "execute_result"
    }
   ],
   "source": [
    "data.head()"
   ]
  },
  {
   "attachments": {},
   "cell_type": "markdown",
   "metadata": {},
   "source": [
    "#### **Note:** Since we already have columns such as `StartDate_num`, `StartTime_num`, `EndDate_num`, `EndTime_num` representing the columns `StartDate`, `StartTime`, `EndDate`, `EndTime` respectively. It's quite obivous to remove these columns"
   ]
  },
  {
   "attachments": {},
   "cell_type": "markdown",
   "metadata": {},
   "source": [
    "### Dropping columns `StartDate`, `StartTime`, `EndDate`, `EndTime`"
   ]
  },
  {
   "cell_type": "code",
   "execution_count": 28,
   "metadata": {},
   "outputs": [],
   "source": [
    "data.drop(columns = ['StartDate', 'StartTime', 'EndDate', 'EndTime'], axis = 1, inplace = True)"
   ]
  },
  {
   "cell_type": "code",
   "execution_count": 29,
   "metadata": {},
   "outputs": [
    {
     "data": {
      "text/html": [
       "<div>\n",
       "<style scoped>\n",
       "    .dataframe tbody tr th:only-of-type {\n",
       "        vertical-align: middle;\n",
       "    }\n",
       "\n",
       "    .dataframe tbody tr th {\n",
       "        vertical-align: top;\n",
       "    }\n",
       "\n",
       "    .dataframe thead th {\n",
       "        text-align: right;\n",
       "    }\n",
       "</style>\n",
       "<table border=\"1\" class=\"dataframe\">\n",
       "  <thead>\n",
       "    <tr style=\"text-align: right;\">\n",
       "      <th></th>\n",
       "      <th>Unnamed: 0</th>\n",
       "      <th>Chargingevent</th>\n",
       "      <th>CPID</th>\n",
       "      <th>Connector</th>\n",
       "      <th>Occupancy Status</th>\n",
       "      <th>StartDate_num</th>\n",
       "      <th>StartTime_num</th>\n",
       "      <th>EndDate_num</th>\n",
       "      <th>EndTime_num</th>\n",
       "      <th>duration</th>\n",
       "      <th>TotalkWh</th>\n",
       "      <th>Site</th>\n",
       "      <th>Model</th>\n",
       "      <th>weekday</th>\n",
       "      <th>charger_id</th>\n",
       "    </tr>\n",
       "  </thead>\n",
       "  <tbody>\n",
       "    <tr>\n",
       "      <th>0</th>\n",
       "      <td>1347</td>\n",
       "      <td>7120839</td>\n",
       "      <td>50338</td>\n",
       "      <td>1</td>\n",
       "      <td>1</td>\n",
       "      <td>43182.0</td>\n",
       "      <td>12.583333</td>\n",
       "      <td>43182.0</td>\n",
       "      <td>13.050000</td>\n",
       "      <td>28.0</td>\n",
       "      <td>2.951</td>\n",
       "      <td>6</td>\n",
       "      <td>2</td>\n",
       "      <td>5</td>\n",
       "      <td>1</td>\n",
       "    </tr>\n",
       "    <tr>\n",
       "      <th>1</th>\n",
       "      <td>8870</td>\n",
       "      <td>7120839</td>\n",
       "      <td>50338</td>\n",
       "      <td>1</td>\n",
       "      <td>0</td>\n",
       "      <td>43182.0</td>\n",
       "      <td>13.050000</td>\n",
       "      <td>43182.0</td>\n",
       "      <td>13.216667</td>\n",
       "      <td>28.0</td>\n",
       "      <td>2.951</td>\n",
       "      <td>6</td>\n",
       "      <td>2</td>\n",
       "      <td>5</td>\n",
       "      <td>1</td>\n",
       "    </tr>\n",
       "    <tr>\n",
       "      <th>2</th>\n",
       "      <td>1340</td>\n",
       "      <td>7121028</td>\n",
       "      <td>50338</td>\n",
       "      <td>1</td>\n",
       "      <td>1</td>\n",
       "      <td>43182.0</td>\n",
       "      <td>13.216667</td>\n",
       "      <td>43182.0</td>\n",
       "      <td>13.333333</td>\n",
       "      <td>7.0</td>\n",
       "      <td>0.765</td>\n",
       "      <td>6</td>\n",
       "      <td>2</td>\n",
       "      <td>5</td>\n",
       "      <td>1</td>\n",
       "    </tr>\n",
       "    <tr>\n",
       "      <th>3</th>\n",
       "      <td>8872</td>\n",
       "      <td>7121028</td>\n",
       "      <td>50338</td>\n",
       "      <td>1</td>\n",
       "      <td>0</td>\n",
       "      <td>43182.0</td>\n",
       "      <td>13.333333</td>\n",
       "      <td>43221.0</td>\n",
       "      <td>15.850000</td>\n",
       "      <td>7.0</td>\n",
       "      <td>0.765</td>\n",
       "      <td>6</td>\n",
       "      <td>2</td>\n",
       "      <td>5</td>\n",
       "      <td>1</td>\n",
       "    </tr>\n",
       "    <tr>\n",
       "      <th>4</th>\n",
       "      <td>5143</td>\n",
       "      <td>7221636</td>\n",
       "      <td>50338</td>\n",
       "      <td>1</td>\n",
       "      <td>1</td>\n",
       "      <td>43221.0</td>\n",
       "      <td>15.850000</td>\n",
       "      <td>43221.0</td>\n",
       "      <td>16.300000</td>\n",
       "      <td>27.0</td>\n",
       "      <td>8.053</td>\n",
       "      <td>6</td>\n",
       "      <td>2</td>\n",
       "      <td>2</td>\n",
       "      <td>1</td>\n",
       "    </tr>\n",
       "  </tbody>\n",
       "</table>\n",
       "</div>"
      ],
      "text/plain": [
       "   Unnamed: 0  Chargingevent   CPID  Connector  Occupancy Status  \\\n",
       "0        1347        7120839  50338          1                 1   \n",
       "1        8870        7120839  50338          1                 0   \n",
       "2        1340        7121028  50338          1                 1   \n",
       "3        8872        7121028  50338          1                 0   \n",
       "4        5143        7221636  50338          1                 1   \n",
       "\n",
       "   StartDate_num  StartTime_num  EndDate_num  EndTime_num  duration  TotalkWh  \\\n",
       "0        43182.0      12.583333      43182.0    13.050000      28.0     2.951   \n",
       "1        43182.0      13.050000      43182.0    13.216667      28.0     2.951   \n",
       "2        43182.0      13.216667      43182.0    13.333333       7.0     0.765   \n",
       "3        43182.0      13.333333      43221.0    15.850000       7.0     0.765   \n",
       "4        43221.0      15.850000      43221.0    16.300000      27.0     8.053   \n",
       "\n",
       "   Site  Model  weekday  charger_id  \n",
       "0     6      2        5           1  \n",
       "1     6      2        5           1  \n",
       "2     6      2        5           1  \n",
       "3     6      2        5           1  \n",
       "4     6      2        2           1  "
      ]
     },
     "execution_count": 29,
     "metadata": {},
     "output_type": "execute_result"
    }
   ],
   "source": [
    "data.head()"
   ]
  },
  {
   "attachments": {},
   "cell_type": "markdown",
   "metadata": {},
   "source": [
    "### Autocorrelation and Partial Autocorrelation using Heatmap"
   ]
  },
  {
   "cell_type": "code",
   "execution_count": 30,
   "metadata": {},
   "outputs": [
    {
     "data": {
      "image/png": "[encoded data removed]",
      "text/plain": [
       "<Figure size 1440x720 with 2 Axes>"
      ]
     },
     "metadata": {},
     "output_type": "display_data"
    }
   ],
   "source": [
    "# Compute the correlation matrix\n",
    "corr_matrix = data.corr()\n",
    "\n",
    "# Create a heatmap \n",
    "plt.figure(figsize = (20 , 10))\n",
    "sns.heatmap(corr_matrix, cmap = 'coolwarm', annot = True)\n",
    "\n",
    "# Add Labels\n",
    "plt.xlabel(\"Variables\")\n",
    "plt.ylabel(\"Variables\")\n",
    "plt.title(\"Autocorrelation and Partial Autocorrelation using HeatMap\")\n",
    "plt.show()"
   ]
  },
  {
   "cell_type": "code",
   "execution_count": 31,
   "metadata": {},
   "outputs": [],
   "source": [
    "def correlation(dataset, threshold):\n",
    "    col_corr = set() # Set of all the names of deleted columns\n",
    "    corr_matrix = dataset.corr()\n",
    "    for i in range(len(corr_matrix.columns)):\n",
    "        for j in range(i):\n",
    "            if (corr_matrix.iloc[i, j] >= threshold) and (corr_matrix.columns[j] not in col_corr):\n",
    "                colname = corr_matrix.columns[i] # getting the name of column\n",
    "                col_corr.add(colname)\n",
    "                if colname in dataset.columns:\n",
    "                    del dataset[colname] # deleting the column from the dataset\n",
    "\n",
    "    print(col_corr)"
   ]
  },
  {
   "cell_type": "code",
   "execution_count": 32,
   "metadata": {},
   "outputs": [
    {
     "name": "stdout",
     "output_type": "stream",
     "text": [
      "{'charger_id', 'EndDate_num', 'EndTime_num'}\n"
     ]
    }
   ],
   "source": [
    "correlation(data , 0.70)"
   ]
  },
  {
   "cell_type": "code",
   "execution_count": 33,
   "metadata": {},
   "outputs": [
    {
     "data": {
      "text/plain": [
       "(17731, 12)"
      ]
     },
     "execution_count": 33,
     "metadata": {},
     "output_type": "execute_result"
    }
   ],
   "source": [
    "data.shape"
   ]
  },
  {
   "cell_type": "code",
   "execution_count": 34,
   "metadata": {},
   "outputs": [
    {
     "data": {
      "text/html": [
       "<div>\n",
       "<style scoped>\n",
       "    .dataframe tbody tr th:only-of-type {\n",
       "        vertical-align: middle;\n",
       "    }\n",
       "\n",
       "    .dataframe tbody tr th {\n",
       "        vertical-align: top;\n",
       "    }\n",
       "\n",
       "    .dataframe thead th {\n",
       "        text-align: right;\n",
       "    }\n",
       "</style>\n",
       "<table border=\"1\" class=\"dataframe\">\n",
       "  <thead>\n",
       "    <tr style=\"text-align: right;\">\n",
       "      <th></th>\n",
       "      <th>Unnamed: 0</th>\n",
       "      <th>Chargingevent</th>\n",
       "      <th>CPID</th>\n",
       "      <th>Connector</th>\n",
       "      <th>Occupancy Status</th>\n",
       "      <th>StartDate_num</th>\n",
       "      <th>StartTime_num</th>\n",
       "      <th>duration</th>\n",
       "      <th>TotalkWh</th>\n",
       "      <th>Site</th>\n",
       "      <th>Model</th>\n",
       "      <th>weekday</th>\n",
       "    </tr>\n",
       "  </thead>\n",
       "  <tbody>\n",
       "    <tr>\n",
       "      <th>0</th>\n",
       "      <td>1347</td>\n",
       "      <td>7120839</td>\n",
       "      <td>50338</td>\n",
       "      <td>1</td>\n",
       "      <td>1</td>\n",
       "      <td>43182.0</td>\n",
       "      <td>12.583333</td>\n",
       "      <td>28.0</td>\n",
       "      <td>2.951</td>\n",
       "      <td>6</td>\n",
       "      <td>2</td>\n",
       "      <td>5</td>\n",
       "    </tr>\n",
       "    <tr>\n",
       "      <th>1</th>\n",
       "      <td>8870</td>\n",
       "      <td>7120839</td>\n",
       "      <td>50338</td>\n",
       "      <td>1</td>\n",
       "      <td>0</td>\n",
       "      <td>43182.0</td>\n",
       "      <td>13.050000</td>\n",
       "      <td>28.0</td>\n",
       "      <td>2.951</td>\n",
       "      <td>6</td>\n",
       "      <td>2</td>\n",
       "      <td>5</td>\n",
       "    </tr>\n",
       "    <tr>\n",
       "      <th>2</th>\n",
       "      <td>1340</td>\n",
       "      <td>7121028</td>\n",
       "      <td>50338</td>\n",
       "      <td>1</td>\n",
       "      <td>1</td>\n",
       "      <td>43182.0</td>\n",
       "      <td>13.216667</td>\n",
       "      <td>7.0</td>\n",
       "      <td>0.765</td>\n",
       "      <td>6</td>\n",
       "      <td>2</td>\n",
       "      <td>5</td>\n",
       "    </tr>\n",
       "    <tr>\n",
       "      <th>3</th>\n",
       "      <td>8872</td>\n",
       "      <td>7121028</td>\n",
       "      <td>50338</td>\n",
       "      <td>1</td>\n",
       "      <td>0</td>\n",
       "      <td>43182.0</td>\n",
       "      <td>13.333333</td>\n",
       "      <td>7.0</td>\n",
       "      <td>0.765</td>\n",
       "      <td>6</td>\n",
       "      <td>2</td>\n",
       "      <td>5</td>\n",
       "    </tr>\n",
       "    <tr>\n",
       "      <th>4</th>\n",
       "      <td>5143</td>\n",
       "      <td>7221636</td>\n",
       "      <td>50338</td>\n",
       "      <td>1</td>\n",
       "      <td>1</td>\n",
       "      <td>43221.0</td>\n",
       "      <td>15.850000</td>\n",
       "      <td>27.0</td>\n",
       "      <td>8.053</td>\n",
       "      <td>6</td>\n",
       "      <td>2</td>\n",
       "      <td>2</td>\n",
       "    </tr>\n",
       "  </tbody>\n",
       "</table>\n",
       "</div>"
      ],
      "text/plain": [
       "   Unnamed: 0  Chargingevent   CPID  Connector  Occupancy Status  \\\n",
       "0        1347        7120839  50338          1                 1   \n",
       "1        8870        7120839  50338          1                 0   \n",
       "2        1340        7121028  50338          1                 1   \n",
       "3        8872        7121028  50338          1                 0   \n",
       "4        5143        7221636  50338          1                 1   \n",
       "\n",
       "   StartDate_num  StartTime_num  duration  TotalkWh  Site  Model  weekday  \n",
       "0        43182.0      12.583333      28.0     2.951     6      2        5  \n",
       "1        43182.0      13.050000      28.0     2.951     6      2        5  \n",
       "2        43182.0      13.216667       7.0     0.765     6      2        5  \n",
       "3        43182.0      13.333333       7.0     0.765     6      2        5  \n",
       "4        43221.0      15.850000      27.0     8.053     6      2        2  "
      ]
     },
     "execution_count": 34,
     "metadata": {},
     "output_type": "execute_result"
    }
   ],
   "source": [
    "data.head()"
   ]
  },
  {
   "attachments": {},
   "cell_type": "markdown",
   "metadata": {},
   "source": [
    "### Splitting the data into X and y"
   ]
  },
  {
   "cell_type": "code",
   "execution_count": 35,
   "metadata": {},
   "outputs": [],
   "source": [
    "X = data.drop(columns = ['Occupancy Status'])\n",
    "y = data['Occupancy Status']"
   ]
  },
  {
   "attachments": {},
   "cell_type": "markdown",
   "metadata": {},
   "source": [
    "### Feature Selection\n",
    "#### Following Feature Selection Models are used:\n",
    "    1. SelectKBest\n",
    "    2. Feature Importance(ExtraTreesClassifier)\n",
    "    3. Information Gain"
   ]
  },
  {
   "attachments": {},
   "cell_type": "markdown",
   "metadata": {},
   "source": [
    "### 1. Applying SelectKBest Algorithm"
   ]
  },
  {
   "cell_type": "code",
   "execution_count": 36,
   "metadata": {},
   "outputs": [],
   "source": [
    "from sklearn.feature_selection import SelectKBest\n",
    "from sklearn.feature_selection import chi2\n",
    "\n",
    "# chi2 is used to apply the statistical analysis\n",
    "# What it does is, it makes sure that the p <= 0.5"
   ]
  },
  {
   "cell_type": "code",
   "execution_count": 37,
   "metadata": {},
   "outputs": [],
   "source": [
    "ordered_rank_features = SelectKBest(score_func = chi2, k = 10)\n",
    "# K is basically the top 10 features\n",
    "ordered_features = ordered_rank_features.fit(X, y)"
   ]
  },
  {
   "cell_type": "code",
   "execution_count": 38,
   "metadata": {},
   "outputs": [],
   "source": [
    "df_scores = pd.DataFrame(ordered_features.scores_ , columns = ['Score'])\n",
    "df_columns = pd.DataFrame(X.columns)"
   ]
  },
  {
   "cell_type": "code",
   "execution_count": 39,
   "metadata": {},
   "outputs": [],
   "source": [
    "features_rank = pd.concat([df_columns , df_scores] , axis= 1)"
   ]
  },
  {
   "cell_type": "code",
   "execution_count": 40,
   "metadata": {},
   "outputs": [
    {
     "data": {
      "text/html": [
       "<div>\n",
       "<style scoped>\n",
       "    .dataframe tbody tr th:only-of-type {\n",
       "        vertical-align: middle;\n",
       "    }\n",
       "\n",
       "    .dataframe tbody tr th {\n",
       "        vertical-align: top;\n",
       "    }\n",
       "\n",
       "    .dataframe thead th {\n",
       "        text-align: right;\n",
       "    }\n",
       "</style>\n",
       "<table border=\"1\" class=\"dataframe\">\n",
       "  <thead>\n",
       "    <tr style=\"text-align: right;\">\n",
       "      <th></th>\n",
       "      <th>Features</th>\n",
       "      <th>Scores</th>\n",
       "    </tr>\n",
       "  </thead>\n",
       "  <tbody>\n",
       "    <tr>\n",
       "      <th>0</th>\n",
       "      <td>Unnamed: 0</td>\n",
       "      <td>7.075943e+07</td>\n",
       "    </tr>\n",
       "    <tr>\n",
       "      <th>1</th>\n",
       "      <td>Chargingevent</td>\n",
       "      <td>9.953958e+01</td>\n",
       "    </tr>\n",
       "    <tr>\n",
       "      <th>5</th>\n",
       "      <td>StartTime_num</td>\n",
       "      <td>1.195955e+01</td>\n",
       "    </tr>\n",
       "    <tr>\n",
       "      <th>6</th>\n",
       "      <td>duration</td>\n",
       "      <td>4.545958e-03</td>\n",
       "    </tr>\n",
       "    <tr>\n",
       "      <th>10</th>\n",
       "      <td>weekday</td>\n",
       "      <td>1.362096e-03</td>\n",
       "    </tr>\n",
       "    <tr>\n",
       "      <th>3</th>\n",
       "      <td>Connector</td>\n",
       "      <td>4.826172e-04</td>\n",
       "    </tr>\n",
       "    <tr>\n",
       "      <th>2</th>\n",
       "      <td>CPID</td>\n",
       "      <td>3.678459e-04</td>\n",
       "    </tr>\n",
       "    <tr>\n",
       "      <th>7</th>\n",
       "      <td>TotalkWh</td>\n",
       "      <td>2.488199e-04</td>\n",
       "    </tr>\n",
       "    <tr>\n",
       "      <th>8</th>\n",
       "      <td>Site</td>\n",
       "      <td>1.366159e-04</td>\n",
       "    </tr>\n",
       "    <tr>\n",
       "      <th>4</th>\n",
       "      <td>StartDate_num</td>\n",
       "      <td>1.016892e-04</td>\n",
       "    </tr>\n",
       "    <tr>\n",
       "      <th>9</th>\n",
       "      <td>Model</td>\n",
       "      <td>4.872178e-08</td>\n",
       "    </tr>\n",
       "  </tbody>\n",
       "</table>\n",
       "</div>"
      ],
      "text/plain": [
       "         Features        Scores\n",
       "0      Unnamed: 0  7.075943e+07\n",
       "1   Chargingevent  9.953958e+01\n",
       "5   StartTime_num  1.195955e+01\n",
       "6        duration  4.545958e-03\n",
       "10        weekday  1.362096e-03\n",
       "3       Connector  4.826172e-04\n",
       "2            CPID  3.678459e-04\n",
       "7        TotalkWh  2.488199e-04\n",
       "8            Site  1.366159e-04\n",
       "4   StartDate_num  1.016892e-04\n",
       "9           Model  4.872178e-08"
      ]
     },
     "execution_count": 40,
     "metadata": {},
     "output_type": "execute_result"
    }
   ],
   "source": [
    "features_rank.columns = ['Features' , 'Scores']\n",
    "features_rank.nlargest(n = 12, columns = ['Scores'])"
   ]
  },
  {
   "attachments": {},
   "cell_type": "markdown",
   "metadata": {},
   "source": [
    "### 2. Feature Importance (ExtraTreesClassifier)\n",
    "* This technique gives you a score for each features of your data.\n",
    "* The higher the score more important a feature is. "
   ]
  },
  {
   "cell_type": "code",
   "execution_count": 41,
   "metadata": {},
   "outputs": [
    {
     "data": {
      "text/plain": [
       "ExtraTreesClassifier()"
      ]
     },
     "execution_count": 41,
     "metadata": {},
     "output_type": "execute_result"
    }
   ],
   "source": [
    "from sklearn.ensemble import ExtraTreesClassifier\n",
    "model = ExtraTreesClassifier()\n",
    "model.fit(X , y)"
   ]
  },
  {
   "cell_type": "code",
   "execution_count": 42,
   "metadata": {},
   "outputs": [
    {
     "data": {
      "image/png": "[encoded data removed]",
      "text/plain": [
       "<Figure size 432x288 with 1 Axes>"
      ]
     },
     "metadata": {},
     "output_type": "display_data"
    }
   ],
   "source": [
    "ranked_features = pd.Series(model.feature_importances_ , index = X.columns)\n",
    "ranked_features.nlargest(n = 10).plot(kind = 'barh')\n",
    "plt.show()"
   ]
  },
  {
   "attachments": {},
   "cell_type": "markdown",
   "metadata": {},
   "source": [
    "### 3. Information Gain"
   ]
  },
  {
   "cell_type": "code",
   "execution_count": 43,
   "metadata": {},
   "outputs": [],
   "source": [
    "from sklearn.feature_selection import mutual_info_classif"
   ]
  },
  {
   "cell_type": "code",
   "execution_count": 44,
   "metadata": {},
   "outputs": [],
   "source": [
    "mutual_info = mutual_info_classif(X, y)"
   ]
  },
  {
   "cell_type": "code",
   "execution_count": 45,
   "metadata": {},
   "outputs": [
    {
     "data": {
      "text/plain": [
       "Unnamed: 0       0.693062\n",
       "CPID             0.004757\n",
       "weekday          0.001639\n",
       "StartTime_num    0.000969\n",
       "Model            0.000698\n",
       "StartDate_num    0.000571\n",
       "duration         0.000065\n",
       "Chargingevent    0.000000\n",
       "Connector        0.000000\n",
       "TotalkWh         0.000000\n",
       "Site             0.000000\n",
       "dtype: float64"
      ]
     },
     "execution_count": 45,
     "metadata": {},
     "output_type": "execute_result"
    }
   ],
   "source": [
    "mutual_data = pd.Series(mutual_info , index = X.columns) \n",
    "mutual_data.sort_values(ascending= False)"
   ]
  }
 ],
 "metadata": {
  "kernelspec": {
   "display_name": "base",
   "language": "python",
   "name": "python3"
  },
  "language_info": {
   "codemirror_mode": {
    "name": "ipython",
    "version": 3
   },
   "file_extension": ".py",
   "mimetype": "text/x-python",
   "name": "python",
   "nbconvert_exporter": "python",
   "pygments_lexer": "ipython3",
   "version": "3.9.12"
  },
  "orig_nbformat": 4,
  "vscode": {
   "interpreter": {
    "hash": "83fdaa4a036c770b553794c5672bdb43ec32b098b80996ab992ce37e5ad2f3db"
   }
  }
 },
 "nbformat": 4,
 "nbformat_minor": 2
}
